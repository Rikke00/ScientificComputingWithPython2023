{
 "cells": [
  {
   "cell_type": "code",
   "execution_count": 10,
   "metadata": {},
   "outputs": [],
   "source": [
    "import pandas as pd\n",
    "import numpy as np "
   ]
  },
  {
   "cell_type": "markdown",
   "metadata": {},
   "source": [
    "Task 1\n"
   ]
  },
  {
   "cell_type": "code",
   "execution_count": 11,
   "metadata": {},
   "outputs": [
    {
     "name": "stdout",
     "output_type": "stream",
     "text": [
      "       HEAD  FPGA  TDC_CHANNEL   ORBIT_CNT  BX_COUNTER  TDC_MEAS\n",
      "0         1     0          123  3869200167        2374        26\n",
      "1         1     0          124  3869200167        2374        27\n",
      "2         1     0           63  3869200167        2553        28\n",
      "3         1     0           64  3869200167        2558        19\n",
      "4         1     0           64  3869200167        2760        25\n",
      "...     ...   ...          ...         ...         ...       ...\n",
      "19995     1     0           27  3869200366        2513        29\n",
      "19996     1     0           63  3869200366        2517         6\n",
      "19997     1     0           32  3869200366        2519         5\n",
      "19998     1     0           17  3869200366        2522        21\n",
      "19999     1     0           64  3869200366        2522         0\n",
      "\n",
      "[20000 rows x 6 columns]\n"
     ]
    }
   ],
   "source": [
    "def read_from_file(dataFile, N):\n",
    "    df = pd.read_csv(dataFile, sep = ',', nrows=N)\n",
    "    return df\n",
    "\n",
    "number_of_rows = 20000\n",
    "data = read_from_file('data_000637.txt', number_of_rows)\n",
    "\n",
    "print(data)"
   ]
  },
  {
   "cell_type": "markdown",
   "metadata": {},
   "source": [
    "Task 2\n"
   ]
  },
  {
   "cell_type": "code",
   "execution_count": 12,
   "metadata": {},
   "outputs": [
    {
     "name": "stdout",
     "output_type": "stream",
     "text": [
      "The estimated number of BX in an ORBIT: 3563 \n",
      "\n"
     ]
    }
   ],
   "source": [
    "#These functions do the same, but the first function was done according to the hints\n",
    "'''\n",
    "def estimate_BX_in_orbit(dataFrame, orbit_col, counter_col):\n",
    "    max_BX_values = np.array([])   \n",
    "    prev_orbit, prev_counter = None, None\n",
    "    \n",
    "    for index, row in dataFrame.iterrows():\n",
    "        orbit, counter = row[orbit_col], row[counter_col]\n",
    "        \n",
    "        if ((orbit != prev_orbit) and (prev_counter is not None)):\n",
    "    \n",
    "            max_BX_values = np.append(max_BX_values, prev_counter)\n",
    "        \n",
    "        prev_orbit, prev_counter = orbit, counter\n",
    "    \n",
    "    estimate_BX = np.max(max_BX_values)\n",
    "    return estimate_BX\n",
    "\n",
    "\n",
    "est_BX_in_orbit = estimate_BX_in_orbit(data, 'ORBIT_CNT', 'BX_COUNTER')\n",
    "\n",
    "print(f'The estimated number of BX in an ORBIT: {est_BX_in_orbit} \\n')\n",
    "'''\n",
    "\n",
    "def estimate_BX_in_orbit(dataFrame, counter_col):\n",
    "    max_BX = np.max(dataFrame[counter_col])\n",
    "    return max_BX\n",
    "\n",
    "\n",
    "est_BX_in_orbit = estimate_BX_in_orbit(data, 'BX_COUNTER')\n",
    "\n",
    "print(f'The estimated number of BX in an ORBIT: {est_BX_in_orbit} \\n')\n"
   ]
  },
  {
   "cell_type": "markdown",
   "metadata": {},
   "source": [
    "Task 3\n"
   ]
  },
  {
   "cell_type": "code",
   "execution_count": 13,
   "metadata": {},
   "outputs": [
    {
     "name": "stdout",
     "output_type": "stream",
     "text": [
      "        ORBIT_CNT  BX_COUNTER  TDC_MEAS  absolute_time_ns  \\\n",
      "0      3869200167        2374        26      0.000000e+00   \n",
      "1      3869200167        2374        27      8.125000e-01   \n",
      "2      3869200167        2553        28      4.476625e+03   \n",
      "3      3869200167        2558        19      4.594125e+03   \n",
      "4      3869200167        2760        25      9.649125e+03   \n",
      "...           ...         ...       ...               ...   \n",
      "19995  3869200366        2513        29      1.773438e+07   \n",
      "19996  3869200366        2517         6      1.773446e+07   \n",
      "19997  3869200366        2519         5      1.773451e+07   \n",
      "19998  3869200366        2522        21      1.773460e+07   \n",
      "19999  3869200366        2522         0      1.773458e+07   \n",
      "\n",
      "               absolute_time_series  \n",
      "0     1970-01-01 00:00:00.000000000  \n",
      "1     1970-01-01 00:00:00.000000000  \n",
      "2     1970-01-01 00:00:00.000004476  \n",
      "3     1970-01-01 00:00:00.000004594  \n",
      "4     1970-01-01 00:00:00.000009649  \n",
      "...                             ...  \n",
      "19995 1970-01-01 00:00:00.017734377  \n",
      "19996 1970-01-01 00:00:00.017734458  \n",
      "19997 1970-01-01 00:00:00.017734507  \n",
      "19998 1970-01-01 00:00:00.017734595  \n",
      "19999 1970-01-01 00:00:00.017734578  \n",
      "\n",
      "[20000 rows x 5 columns]\n"
     ]
    }
   ],
   "source": [
    "BX_UNIT_NS = 25  # ns\n",
    "TDC_MEAS_UNIT_NS = 25 / 30  # ns\n",
    "BX_COUNTER_MAX = est_BX_in_orbit  # Max value of BX_COUNTER before resetting to 0\n",
    "\n",
    "data['absolute_time_ns'] = (\n",
    "    data['ORBIT_CNT'] * (BX_COUNTER_MAX + 1) * BX_UNIT_NS +  # Absolute orbit time\n",
    "    data['BX_COUNTER'] * BX_UNIT_NS +  # Absolute BX_COUNTER time\n",
    "    data['TDC_MEAS'] * TDC_MEAS_UNIT_NS  # Absolute TDC_MEAS time\n",
    ")\n",
    "\n",
    "# Starting time and offset all times by it\n",
    "starting_time = data.loc[0, 'absolute_time_ns'] #0 is the row, 'absolute_time_ns' is the column just made\n",
    "data['absolute_time_ns'] -= starting_time\n",
    "\n",
    "#Time series\n",
    "data['absolute_time_series'] = pd.to_datetime(data['absolute_time_ns'], unit='ns') #1970-01-01 is the Unix epoch reference\n",
    "\n",
    "print(data[['ORBIT_CNT', 'BX_COUNTER', 'TDC_MEAS', 'absolute_time_ns', 'absolute_time_series']])\n"
   ]
  },
  {
   "cell_type": "markdown",
   "metadata": {},
   "source": [
    "Task 4\n"
   ]
  },
  {
   "cell_type": "code",
   "execution_count": 14,
   "metadata": {},
   "outputs": [
    {
     "name": "stdout",
     "output_type": "stream",
     "text": [
      "The duration of the data taking is: 0 days 00:00:00.017734595\n",
      "And represented in H,M and S: \n",
      " Duration: 0 hours, 0 minutes, 0 seconds\n"
     ]
    }
   ],
   "source": [
    "# Find the duration of the data taking\n",
    "duration = data['absolute_time_series'].max() - data['absolute_time_series'].min()\n",
    "print(f'The duration of the data taking is: {duration}')\n",
    "# Convert the duration to hours, minutes, and seconds\n",
    "hours = duration.components.hours\n",
    "minutes = duration.components.minutes\n",
    "seconds = duration.components.seconds\n",
    "\n",
    "# Display the duration in hours, minutes, and seconds\n",
    "print(f\"And represented in H,M and S: \\n Duration: {hours} hours, {minutes} minutes, {seconds} seconds\")"
   ]
  },
  {
   "cell_type": "markdown",
   "metadata": {},
   "source": [
    "Task 5"
   ]
  },
  {
   "cell_type": "code",
   "execution_count": 15,
   "metadata": {},
   "outputs": [
    {
     "name": "stdout",
     "output_type": "stream",
     "text": [
      "The TDC_CHANNELS with most noise is: \n",
      " TDC_CHANNEL\n",
      "139    2991203\n",
      "64     1834885\n",
      "63     1753201\n",
      "Name: BX_COUNTER, dtype: int64 \n",
      "\n"
     ]
    }
   ],
   "source": [
    "top_3_channels = data.groupby('TDC_CHANNEL')['BX_COUNTER'].sum().nlargest(3)\n",
    "\n",
    "print(f'The TDC_CHANNELS with most noise is: \\n {top_3_channels} \\n')\n"
   ]
  },
  {
   "cell_type": "markdown",
   "metadata": {},
   "source": [
    "Task 6\n"
   ]
  },
  {
   "cell_type": "code",
   "execution_count": 16,
   "metadata": {},
   "outputs": [
    {
     "name": "stdout",
     "output_type": "stream",
     "text": [
      "The number of non-empty orbits is: 20000\n"
     ]
    }
   ],
   "source": [
    "non_empty_orbits = data['ORBIT_CNT'].count()\n",
    "\n",
    "print(f'The number of non-empty orbits is: {non_empty_orbits}')"
   ]
  },
  {
   "cell_type": "markdown",
   "metadata": {},
   "source": [
    "Task 7\n"
   ]
  },
  {
   "cell_type": "code",
   "execution_count": 17,
   "metadata": {},
   "outputs": [
    {
     "name": "stdout",
     "output_type": "stream",
     "text": [
      "The number of unique orbits that has a measurement from the TDC_CHANNEL = 139 is: 200\n"
     ]
    }
   ],
   "source": [
    "unique_orbits_with_TDC139 = data[data['TDC_CHANNEL'] == 139]['ORBIT_CNT'].nunique()\n",
    "print(f'The number of unique orbits that has a measurement from the TDC_CHANNEL = 139 is: {unique_orbits_with_TDC139}')\n"
   ]
  },
  {
   "cell_type": "markdown",
   "metadata": {},
   "source": [
    "Task 8"
   ]
  },
  {
   "cell_type": "code",
   "execution_count": 18,
   "metadata": {},
   "outputs": [
    {
     "name": "stdout",
     "output_type": "stream",
     "text": [
      "The series for the FPGA0: \n",
      " 139    1171\n",
      "64      975\n",
      "63      961\n",
      "61      726\n",
      "62      711\n",
      "       ... \n",
      "106       6\n",
      "107       6\n",
      "98        5\n",
      "101       3\n",
      "67        2\n",
      "Name: TDC_CHANNEL, Length: 118, dtype: int64 \n",
      "\n",
      "The series for the FPGA1: \n",
      " 139    522\n",
      "2      479\n",
      "1      435\n",
      "4      393\n",
      "3      362\n",
      "      ... \n",
      "78       1\n",
      "93       1\n",
      "86       1\n",
      "76       1\n",
      "91       1\n",
      "Name: TDC_CHANNEL, Length: 125, dtype: int64 \n",
      "\n"
     ]
    }
   ],
   "source": [
    "FPGA0_counts = data[data['FPGA'] == 0]['TDC_CHANNEL'].value_counts()\n",
    "FPGA1_counts = data[data['FPGA'] == 1]['TDC_CHANNEL'].value_counts()\n",
    "\n",
    "print(f'The series for the FPGA0: \\n {FPGA0_counts} \\n')\n",
    "print(f'The series for the FPGA1: \\n {FPGA1_counts} \\n')"
   ]
  }
 ],
 "metadata": {
  "kernelspec": {
   "display_name": "Python 3",
   "language": "python",
   "name": "python3"
  },
  "language_info": {
   "codemirror_mode": {
    "name": "ipython",
    "version": 3
   },
   "file_extension": ".py",
   "mimetype": "text/x-python",
   "name": "python",
   "nbconvert_exporter": "python",
   "pygments_lexer": "ipython3",
   "version": "3.9.10"
  }
 },
 "nbformat": 4,
 "nbformat_minor": 2
}
