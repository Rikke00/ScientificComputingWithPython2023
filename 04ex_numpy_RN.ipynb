{
 "cells": [
  {
   "cell_type": "code",
   "execution_count": 10,
   "metadata": {},
   "outputs": [],
   "source": [
    "#library\n",
    "import numpy as np\n",
    "import timeit\n",
    "import matplotlib.pyplot as plt\n"
   ]
  },
  {
   "cell_type": "markdown",
   "metadata": {},
   "source": [
    "Task 1: Reductions"
   ]
  },
  {
   "cell_type": "code",
   "execution_count": 11,
   "metadata": {},
   "outputs": [
    {
     "name": "stdout",
     "output_type": "stream",
     "text": [
      "[[ 0  1  2  3]\n",
      " [ 4  5  6  7]\n",
      " [ 8  9 10 11]]\n",
      "The total mean of the array is: 5.5 \n",
      "\n",
      "The mean of row 0 is: 1.5\n",
      "The mean of row 1 is: 5.5\n",
      "The mean of row 2 is: 9.5\n",
      "The mean of column 0 is: 4.0\n",
      "The mean of column 1 is: 5.0\n",
      "The mean of column 2 is: 6.0\n",
      "The mean of column 3 is: 7.0\n"
     ]
    }
   ],
   "source": [
    "m = np.arange(12).reshape((3,4))\n",
    "print(m)\n",
    "mean_m = np.mean(m)\n",
    "print(f'The total mean of the array is: {mean_m} \\n')\n",
    "\n",
    "\n",
    "mean_rows = [np.mean(row) for row in m]\n",
    "mean_cols = [np.mean(col) for col in m.T]  # Transpose m to calculate column means\n",
    "\n",
    "\n",
    "for i, mean_row in enumerate(mean_rows):\n",
    "    print(f'The mean of row {i} is: {mean_row}')\n",
    "\n",
    "\n",
    "for j, mean_col in enumerate(mean_cols):\n",
    "    print(f'The mean of column {j} is: {mean_col}')\n"
   ]
  },
  {
   "cell_type": "markdown",
   "metadata": {},
   "source": [
    "Task 2: Outer product\n"
   ]
  },
  {
   "cell_type": "code",
   "execution_count": 12,
   "metadata": {},
   "outputs": [
    {
     "name": "stdout",
     "output_type": "stream",
     "text": [
      "The outer product of u and v using numpy is: \n",
      " [[ 2  4  6  8]\n",
      " [ 6 12 18 24]\n",
      " [10 20 30 40]\n",
      " [14 28 42 56]] \n",
      "\n",
      "The outer product of u and v using list comprehension is: \n",
      " [2, 4, 6, 8, 6, 12, 18, 24, 10, 20, 30, 40, 14, 28, 42, 56] \n",
      "\n",
      "The outer product of u and v using numpy broadcast is: \n",
      " [[ 2  4  6  8]\n",
      " [ 6 12 18 24]\n",
      " [10 20 30 40]\n",
      " [14 28 42 56]] \n",
      "\n"
     ]
    }
   ],
   "source": [
    "u = np.array([1, 3, 5, 7])\n",
    "v = np.array([2, 4, 6, 8])\n",
    "\n",
    "#1\n",
    "np_outer_u_v = np.outer(u,v)\n",
    "print(f'The outer product of u and v using numpy is: \\n {np_outer_u_v} \\n')\n",
    "\n",
    "#2\n",
    "list_outer_u_v = [np.dot(x,y) for x in u for y in v]\n",
    "print(f'The outer product of u and v using list comprehension is: \\n {list_outer_u_v} \\n')\n",
    "\n",
    "#3\n",
    "bc_outer_u_v = u[:,None] * v\n",
    "print(f'The outer product of u and v using numpy broadcast is: \\n {bc_outer_u_v} \\n')"
   ]
  },
  {
   "cell_type": "markdown",
   "metadata": {},
   "source": [
    "Task 3: Matrix masking"
   ]
  },
  {
   "cell_type": "code",
   "execution_count": 13,
   "metadata": {},
   "outputs": [
    {
     "name": "stdout",
     "output_type": "stream",
     "text": [
      " The created array: \n",
      " [[1.92758308 2.21178908 2.44495532 0.90319733 0.3321871  1.66094885]\n",
      " [0.59706314 1.33874633 0.47058929 0.35208716 1.62307449 1.16976081]\n",
      " [2.88324384 2.1252751  2.02758105 0.99059651 0.95820261 0.70042544]\n",
      " [1.58257282 2.08042247 0.20865037 0.57838431 0.34209707 1.80642741]\n",
      " [1.59251113 0.40245002 2.56012907 2.73878381 2.62349632 0.20664914]\n",
      " [1.23708398 0.55491674 0.31887084 1.12923585 2.09648213 0.74434443]\n",
      " [1.74037135 2.68399031 2.66745353 0.41710847 1.03301959 0.01251591]\n",
      " [2.91298984 2.80607708 0.14135929 1.40718975 2.07140879 1.49127771]\n",
      " [2.58524809 1.83890189 0.0946252  0.35736517 1.84204403 0.58551501]\n",
      " [1.48068987 0.40891727 0.15497292 1.35322162 0.77289974 1.57165851]] \n",
      "\n",
      "The modified array: \n",
      " [[1.92758308 2.21178908 2.44495532 0.90319733 0.3321871  1.66094885]\n",
      " [0.59706314 1.33874633 0.47058929 0.35208716 1.62307449 1.16976081]\n",
      " [2.88324384 2.1252751  2.02758105 0.99059651 0.95820261 0.70042544]\n",
      " [1.58257282 2.08042247 0.         0.57838431 0.34209707 1.80642741]\n",
      " [1.59251113 0.40245002 2.56012907 2.73878381 2.62349632 0.        ]\n",
      " [1.23708398 0.55491674 0.31887084 1.12923585 2.09648213 0.74434443]\n",
      " [1.74037135 2.68399031 2.66745353 0.41710847 1.03301959 0.        ]\n",
      " [2.91298984 2.80607708 0.         1.40718975 2.07140879 1.49127771]\n",
      " [2.58524809 1.83890189 0.         0.35736517 1.84204403 0.58551501]\n",
      " [1.48068987 0.40891727 0.         1.35322162 0.77289974 1.57165851]] \n",
      "\n"
     ]
    }
   ],
   "source": [
    "array_flat = np.random.uniform(0, 3, size=(10, 6))\n",
    "print(f' The created array: \\n {array_flat} \\n')\n",
    "\n",
    "mask = (array_flat < 0.3)\n",
    "\n",
    "array_flat[mask] = 0\n",
    "print(f'The modified array: \\n {array_flat} \\n')"
   ]
  },
  {
   "cell_type": "markdown",
   "metadata": {},
   "source": [
    "Task 4: Trigonometric functions"
   ]
  },
  {
   "cell_type": "code",
   "execution_count": 14,
   "metadata": {},
   "outputs": [
    {
     "name": "stdout",
     "output_type": "stream",
     "text": [
      "An array containing 100 values between 0 and 2pi: \n",
      " [0.         0.06346652 0.12693304 0.19039955 0.25386607 0.31733259\n",
      " 0.38079911 0.44426563 0.50773215 0.57119866 0.63466518 0.6981317\n",
      " 0.76159822 0.82506474 0.88853126 0.95199777 1.01546429 1.07893081\n",
      " 1.14239733 1.20586385 1.26933037 1.33279688 1.3962634  1.45972992\n",
      " 1.52319644 1.58666296 1.65012947 1.71359599 1.77706251 1.84052903\n",
      " 1.90399555 1.96746207 2.03092858 2.0943951  2.15786162 2.22132814\n",
      " 2.28479466 2.34826118 2.41172769 2.47519421 2.53866073 2.60212725\n",
      " 2.66559377 2.72906028 2.7925268  2.85599332 2.91945984 2.98292636\n",
      " 3.04639288 3.10985939 3.17332591 3.23679243 3.30025895 3.36372547\n",
      " 3.42719199 3.4906585  3.55412502 3.61759154 3.68105806 3.74452458\n",
      " 3.8079911  3.87145761 3.93492413 3.99839065 4.06185717 4.12532369\n",
      " 4.1887902  4.25225672 4.31572324 4.37918976 4.44265628 4.5061228\n",
      " 4.56958931 4.63305583 4.69652235 4.75998887 4.82345539 4.88692191\n",
      " 4.95038842 5.01385494 5.07732146 5.14078798 5.2042545  5.26772102\n",
      " 5.33118753 5.39465405 5.45812057 5.52158709 5.58505361 5.64852012\n",
      " 5.71198664 5.77545316 5.83891968 5.9023862  5.96585272 6.02931923\n",
      " 6.09278575 6.15625227 6.21971879 6.28318531] \n",
      "\n",
      "Array with extracting every 10th element: \n",
      " [0.         0.63466518 1.26933037 1.90399555 2.53866073 3.17332591\n",
      " 3.8079911  4.44265628 5.07732146 5.71198664] \n",
      "\n",
      "The reversed array: \n",
      " [6.28318531 6.21971879 6.15625227 6.09278575 6.02931923 5.96585272\n",
      " 5.9023862  5.83891968 5.77545316 5.71198664 5.64852012 5.58505361\n",
      " 5.52158709 5.45812057 5.39465405 5.33118753 5.26772102 5.2042545\n",
      " 5.14078798 5.07732146 5.01385494 4.95038842 4.88692191 4.82345539\n",
      " 4.75998887 4.69652235 4.63305583 4.56958931 4.5061228  4.44265628\n",
      " 4.37918976 4.31572324 4.25225672 4.1887902  4.12532369 4.06185717\n",
      " 3.99839065 3.93492413 3.87145761 3.8079911  3.74452458 3.68105806\n",
      " 3.61759154 3.55412502 3.4906585  3.42719199 3.36372547 3.30025895\n",
      " 3.23679243 3.17332591 3.10985939 3.04639288 2.98292636 2.91945984\n",
      " 2.85599332 2.7925268  2.72906028 2.66559377 2.60212725 2.53866073\n",
      " 2.47519421 2.41172769 2.34826118 2.28479466 2.22132814 2.15786162\n",
      " 2.0943951  2.03092858 1.96746207 1.90399555 1.84052903 1.77706251\n",
      " 1.71359599 1.65012947 1.58666296 1.52319644 1.45972992 1.3962634\n",
      " 1.33279688 1.26933037 1.20586385 1.14239733 1.07893081 1.01546429\n",
      " 0.95199777 0.88853126 0.82506474 0.76159822 0.6981317  0.63466518\n",
      " 0.57119866 0.50773215 0.44426563 0.38079911 0.31733259 0.25386607\n",
      " 0.19039955 0.12693304 0.06346652 0.        ] \n",
      "\n",
      "Array containing elements where absolute difference between the sin and cos functions < 0.1 : \n",
      " [0.76159822 0.82506474 3.87145761 3.93492413] \n",
      "\n"
     ]
    }
   ],
   "source": [
    "a = np.linspace(start = 0, stop = 2*np.pi, num = 100)\n",
    "print(f'An array containing 100 values between 0 and 2pi: \\n {a} \\n')\n",
    "\n",
    "extract_every_10th = a[::10]\n",
    "print(f'Array with extracting every 10th element: \\n {extract_every_10th} \\n')\n",
    "\n",
    "reverse_array = a[::-1]\n",
    "print(f'The reversed array: \\n {reverse_array} \\n')\n",
    "\n",
    "mask_diff =  (np.abs(np.sin(a) - np.cos(a)) < 0.1)\n",
    "abs_diff_sin_cos = a[mask_diff]\n",
    "print(f'Array containing elements where absolute difference between the sin and cos functions < 0.1 : \\n {abs_diff_sin_cos} \\n')\n"
   ]
  },
  {
   "cell_type": "markdown",
   "metadata": {},
   "source": [
    "Task 5: Matrices\n"
   ]
  },
  {
   "cell_type": "code",
   "execution_count": 15,
   "metadata": {},
   "outputs": [
    {
     "name": "stdout",
     "output_type": "stream",
     "text": [
      "The 10 x 10 multiplication table: \n",
      " [[  1   2   3   4   5   6   7   8   9  10]\n",
      " [  2   4   6   8  10  12  14  16  18  20]\n",
      " [  3   6   9  12  15  18  21  24  27  30]\n",
      " [  4   8  12  16  20  24  28  32  36  40]\n",
      " [  5  10  15  20  25  30  35  40  45  50]\n",
      " [  6  12  18  24  30  36  42  48  54  60]\n",
      " [  7  14  21  28  35  42  49  56  63  70]\n",
      " [  8  16  24  32  40  48  56  64  72  80]\n",
      " [  9  18  27  36  45  54  63  72  81  90]\n",
      " [ 10  20  30  40  50  60  70  80  90 100]] \n",
      "\n",
      "The trace of the multiplication table is: \n",
      " 385 \n",
      "\n",
      "The anti-diagonal of the multiplication table is: \n",
      " [10 18 24 28 30 30 28 24 18 10] \n",
      "\n",
      "The offset diagonal from the multiplication table is: \n",
      " [ 2  6 12 20 30 42 56 72 90] \n",
      "\n"
     ]
    }
   ],
   "source": [
    "multiplication_table = np.array([i*j for i in range(1,11) for j in range(1,11)])\n",
    "multiplication_table = multiplication_table.reshape(10,10)\n",
    "print(f'The 10 x 10 multiplication table: \\n {multiplication_table} \\n')\n",
    "\n",
    "trace_matrix = np.trace(multiplication_table)\n",
    "print(f'The trace of the multiplication table is: \\n {trace_matrix} \\n')\n",
    "\n",
    "anti_diag = np.fliplr(multiplication_table).diagonal()\n",
    "print(f'The anti-diagonal of the multiplication table is: \\n {anti_diag} \\n')\n",
    "\n",
    "offset_diag = np.diagonal(multiplication_table, offset=1)\n",
    "print(f'The offset diagonal from the multiplication table is: \\n {offset_diag} \\n')\n"
   ]
  },
  {
   "cell_type": "markdown",
   "metadata": {},
   "source": [
    "Task 6: Broadcasting"
   ]
  },
  {
   "cell_type": "code",
   "execution_count": 16,
   "metadata": {},
   "outputs": [
    {
     "name": "stdout",
     "output_type": "stream",
     "text": [
      "2D grid of distances among each city along Route 66: \n",
      " [[   0  198  303  736  871 1175 1475 1544 1913 2448]\n",
      " [ 198    0  105  538  673  977 1277 1346 1715 2250]\n",
      " [ 303  105    0  433  568  872 1172 1241 1610 2145]\n",
      " [ 736  538  433    0  135  439  739  808 1177 1712]\n",
      " [ 871  673  568  135    0  304  604  673 1042 1577]\n",
      " [1175  977  872  439  304    0  300  369  738 1273]\n",
      " [1475 1277 1172  739  604  300    0   69  438  973]\n",
      " [1544 1346 1241  808  673  369   69    0  369  904]\n",
      " [1913 1715 1610 1177 1042  738  438  369    0  535]\n",
      " [2448 2250 2145 1712 1577 1273  973  904  535    0]] \n",
      "\n",
      "The distances in km: \n",
      " [[   0.    318.65  487.63 1184.48 1401.74 1890.98 2373.78 2484.83 3078.68\n",
      "  3939.67]\n",
      " [ 318.65    0.    168.98  865.83 1083.09 1572.33 2055.13 2166.18 2760.02\n",
      "  3621.02]\n",
      " [ 487.63  168.98    0.    696.85  914.11 1403.35 1886.15 1997.2  2591.04\n",
      "  3452.04]\n",
      " [1184.48  865.83  696.85    0.    217.26  706.5  1189.31 1300.35 1894.2\n",
      "  2755.2 ]\n",
      " [1401.74 1083.09  914.11  217.26    0.    489.24  972.04 1083.09 1676.94\n",
      "  2537.94]\n",
      " [1890.98 1572.33 1403.35  706.5   489.24    0.    482.8   593.85 1187.7\n",
      "  2048.69]\n",
      " [2373.78 2055.13 1886.15 1189.31  972.04  482.8     0.    111.04  704.89\n",
      "  1565.89]\n",
      " [2484.83 2166.18 1997.2  1300.35 1083.09  593.85  111.04    0.    593.85\n",
      "  1454.85]\n",
      " [3078.68 2760.02 2591.04 1894.2  1676.94 1187.7   704.89  593.85    0.\n",
      "   861.  ]\n",
      " [3939.67 3621.02 3452.04 2755.2  2537.94 2048.69 1565.89 1454.85  861.\n",
      "     0.  ]] \n",
      "\n"
     ]
    }
   ],
   "source": [
    "position = np.array([0, 198, 303, 736, 871, 1175, 1475, 1544, 1913, 2448])\n",
    "\n",
    "grid_distances = np.abs(position - position.reshape(10,1))\n",
    "print(f'2D grid of distances among each city along Route 66: \\n {grid_distances} \\n')\n",
    "\n",
    "\n",
    "miles_to_km_conv = 1.609344\n",
    "km_distance = grid_distances * miles_to_km_conv\n",
    "rounded_km_distance = np.round(km_distance, 2)\n",
    "print(f'The distances in km: \\n {rounded_km_distance} \\n')"
   ]
  },
  {
   "cell_type": "markdown",
   "metadata": {},
   "source": [
    "Task 7: Prime numbers sieve"
   ]
  },
  {
   "cell_type": "code",
   "execution_count": 17,
   "metadata": {},
   "outputs": [
    {
     "name": "stdout",
     "output_type": "stream",
     "text": [
      "Prime numbers up to N=99: \n",
      " [ 2  3  5  7 11 13 17 19 23 29 31 37 41 43 47 53 59 61 67 71 73 79 83 89\n",
      " 97] \n",
      " Time taken for N = 99: 0.000054 seconds \n",
      "\n",
      "Prime numbers up to N=1000: \n",
      " [  2   3   5   7  11  13  17  19  23  29  31  37  41  43  47  53  59  61\n",
      "  67  71  73  79  83  89  97 101 103 107 109 113 127 131 137 139 149 151\n",
      " 157 163 167 173 179 181 191 193 197 199 211 223 227 229 233 239 241 251\n",
      " 257 263 269 271 277 281 283 293 307 311 313 317 331 337 347 349 353 359\n",
      " 367 373 379 383 389 397 401 409 419 421 431 433 439 443 449 457 461 463\n",
      " 467 479 487 491 499 503 509 521 523 541 547 557 563 569 571 577 587 593\n",
      " 599 601 607 613 617 619 631 641 643 647 653 659 661 673 677 683 691 701\n",
      " 709 719 727 733 739 743 751 757 761 769 773 787 797 809 811 821 823 827\n",
      " 829 839 853 857 859 863 877 881 883 887 907 911 919 929 937 941 947 953\n",
      " 967 971 977 983 991 997] \n",
      " Time taken for N = 1000: 0.000193 seconds \n",
      "\n",
      "Prime numbers up to N=10000: \n",
      " [   2    3    5 ... 9949 9967 9973] \n",
      " Time taken for N = 10000: 0.000281 seconds \n",
      "\n",
      "Prime numbers up to N=20000: \n",
      " [    2     3     5 ... 19991 19993 19997] \n",
      " Time taken for N = 20000: 0.000743 seconds \n",
      "\n",
      "Prime numbers up to N=100000: \n",
      " [    2     3     5 ... 99971 99989 99991] \n",
      " Time taken for N = 100000: 0.000551 seconds \n",
      "\n"
     ]
    }
   ],
   "source": [
    "def sieve_of_eratosthenes(N):\n",
    "    prime_mask = np.ones(N, dtype=bool)\n",
    "    prime_mask[:2] = False  # 0 and 1 are not prime numbers\n",
    "\n",
    "    for i in range(2, int(np.sqrt(N)) + 1):\n",
    "        if prime_mask[i]:\n",
    "            # Mark multiples of i as non-prime\n",
    "            prime_mask[i * i : N : i] = False\n",
    "\n",
    "    # Extract prime numbers using the mask\n",
    "    primes = np.nonzero(prime_mask)[0] #output without [0]: (array([ 2,..,97]),)\n",
    "    return primes\n",
    "\n",
    "\n",
    "for N in [99, 1000, 10000, 20000, 100000]:\n",
    "    time_exc = timeit.timeit(lambda: sieve_of_eratosthenes(N), number = 1)\n",
    "    print(f'Prime numbers up to N={N}: \\n {sieve_of_eratosthenes(N)} \\n Time taken for N = {N}: {time_exc:.6f} seconds \\n')\n",
    "\n",
    "#The algorithm increases slighty in computation time for increased N, but it still is quite efficent for increased N. \n",
    "#Probably because it checks for elimination of multiples of prime numbers instead of checking each number for divisibility"
   ]
  },
  {
   "cell_type": "markdown",
   "metadata": {},
   "source": [
    "Task 8: Diffusion using random walk"
   ]
  },
  {
   "cell_type": "code",
   "execution_count": 18,
   "metadata": {},
   "outputs": [
    {
     "name": "stdout",
     "output_type": "stream",
     "text": [
      "The random array representing walker x steps: \n",
      " [[-1  1 -1 ...  1 -1  1]\n",
      " [-1 -1 -1 ...  1  1  1]\n",
      " [-1  1  1 ... -1 -1 -1]\n",
      " ...\n",
      " [-1  1 -1 ... -1 -1 -1]\n",
      " [-1 -1  1 ...  1 -1 -1]\n",
      " [ 1 -1  1 ... -1  1  1]] \n",
      "\n",
      "The walking distance for each walker: \n",
      " [[ -1   0  -1 ...   4   3   4]\n",
      " [ -1  -2  -3 ...   6   7   8]\n",
      " [ -1   0   1 ... -26 -27 -28]\n",
      " ...\n",
      " [ -1   0  -1 ... -18 -19 -20]\n",
      " [ -1  -2  -1 ... -24 -25 -26]\n",
      " [  1   0   1 ...  -4  -3  -2]] \n",
      "\n",
      "The square of the walking distance: \n",
      " [[  1   0   1 ...  16   9  16]\n",
      " [  1   4   9 ...  36  49  64]\n",
      " [  1   0   1 ... 676 729 784]\n",
      " ...\n",
      " [  1   0   1 ... 324 361 400]\n",
      " [  1   4   1 ... 576 625 676]\n",
      " [  1   0   1 ...  16   9   4]] \n",
      "\n",
      "The mean of the squared distance is: \n",
      " [  1.      1.972   2.904   3.968   4.968   5.82    7.088   8.168   9.056\n",
      "  10.156  11.176  12.288  13.192  13.908  15.28   16.076  17.064  17.732\n",
      "  18.6    20.044  20.888  21.728  22.912  24.312  25.28   26.276  27.464\n",
      "  28.516  29.2    30.36   31.824  33.     34.408  35.596  36.376  37.636\n",
      "  38.888  39.66   41.16   42.184  43.304  44.34   44.496  45.38   46.232\n",
      "  48.028  49.296  50.34   50.976  51.292  52.424  53.48   54.72   55.132\n",
      "  56.2    56.248  57.856  59.12   59.56   61.004  62.16   62.744  64.232\n",
      "  64.224  65.088  65.792  67.384  68.488  69.416  70.46   71.192  72.208\n",
      "  73.48   74.94   76.192  76.468  78.16   79.064  79.96   80.512  82.408\n",
      "  83.34   83.872  84.788  85.192  86.5    88.392  89.32   89.648  90.54\n",
      "  90.864  91.02   92.28   92.5    94.616  95.372  95.84   98.496  99.088\n",
      " 100.324 101.712 102.304 103.232 104.512 106.256 106.232 107.632 108.248\n",
      " 108.88  111.28  110.632 111.792 112.8   114.376 115.04  116.448 117.92\n",
      " 119.2   119.904 120.628 121.376 122.548 123.496 123.644 123.248 124.204\n",
      " 126.048 127.808 128.256 128.352 128.872 130.38  131.384 132.02  134.152\n",
      " 135.724 136.16  137.28  138.928 139.064 140.344 141.208 142.264 144.252\n",
      " 145.952 146.908 148.152 148.812 150.608 151.016 152.592 153.524 154.08\n",
      " 155.88  156.832 158.324 158.128 159.424 159.624 160.636 161.168 163.312\n",
      " 164.192 165.136 167.344 168.792 170.76  173.192 174.264 174.556 174.72\n",
      " 175.888 176.84  177.704 177.16  178.304 179.808 180.132 181.4   183.044\n",
      " 183.776 184.476 185.32  187.004 187.744 189.932 190.888 192.216 191.408\n",
      " 192.512 192.52  192.42  193.8   194.408 195.712 195.036 195.296 196.992\n",
      " 196.656 197.904] \n",
      "\n"
     ]
    },
    {
     "data": {
      "image/png": "[encoded data removed]",
      "text/plain": [
       "<Figure size 640x480 with 1 Axes>"
      ]
     },
     "metadata": {},
     "output_type": "display_data"
    }
   ],
   "source": [
    "num_walkers = 1000\n",
    "num_steps = 200\n",
    "walker_and_steps = 2 * np.random.randint(0, 2, size=(num_walkers, num_steps)) - 1\n",
    "\n",
    "# Calculate walking distances for each step (row-wise)\n",
    "walking_distances = np.cumsum(walker_and_steps, axis=1)\n",
    "\n",
    "square_distances = walking_distances ** 2\n",
    "\n",
    "# Compute the mean of the squared distances at each step (mean along the columns)\n",
    "mean_square_d = np.mean(square_distances, axis=0)\n",
    "\n",
    "\n",
    "print(f'The random array representing walker x steps: \\n {walker_and_steps} \\n')\n",
    "print(f'The walking distance for each walker: \\n {walking_distances} \\n')\n",
    "print(f'The square of the walking distance: \\n {square_distances} \\n')\n",
    "print(f'The mean of the squared distance is: \\n {mean_square_d} \\n')\n",
    "\n",
    "plt.plot(np.arange(num_steps), mean_square_d)\n",
    "plt.xlabel('Number of Steps')\n",
    "plt.ylabel('Mean Squared Distance')\n",
    "plt.title('Average Distance from Origin')\n",
    "plt.show()"
   ]
  }
 ],
 "metadata": {
  "kernelspec": {
   "display_name": "Python 3",
   "language": "python",
   "name": "python3"
  },
  "language_info": {
   "codemirror_mode": {
    "name": "ipython",
    "version": 3
   },
   "file_extension": ".py",
   "mimetype": "text/x-python",
   "name": "python",
   "nbconvert_exporter": "python",
   "pygments_lexer": "ipython3",
   "version": "3.9.10"
  }
 },
 "nbformat": 4,
 "nbformat_minor": 2
}
